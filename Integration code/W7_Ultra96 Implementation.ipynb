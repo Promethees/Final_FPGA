{
 "cells": [
  {
   "cell_type": "markdown",
   "metadata": {},
   "source": [
    "<h1>IP CORE VERIFICATION</h1>"
   ]
  },
  {
   "cell_type": "code",
   "execution_count": 1,
   "metadata": {},
   "outputs": [
    {
     "data": {
      "application/javascript": [
       "\n",
       "try {\n",
       "require(['notebook/js/codecell'], function(codecell) {\n",
       "  codecell.CodeCell.options_default.highlight_modes[\n",
       "      'magic_text/x-csrc'] = {'reg':[/^%%microblaze/]};\n",
       "  Jupyter.notebook.events.one('kernel_ready.Kernel', function(){\n",
       "      Jupyter.notebook.get_cells().map(function(cell){\n",
       "          if (cell.cell_type == 'code'){ cell.auto_highlight(); } }) ;\n",
       "  });\n",
       "});\n",
       "} catch (e) {};\n"
      ]
     },
     "metadata": {},
     "output_type": "display_data"
    },
    {
     "data": {
      "application/javascript": [
       "\n",
       "try {\n",
       "require(['notebook/js/codecell'], function(codecell) {\n",
       "  codecell.CodeCell.options_default.highlight_modes[\n",
       "      'magic_text/x-csrc'] = {'reg':[/^%%pybind11/]};\n",
       "  Jupyter.notebook.events.one('kernel_ready.Kernel', function(){\n",
       "      Jupyter.notebook.get_cells().map(function(cell){\n",
       "          if (cell.cell_type == 'code'){ cell.auto_highlight(); } }) ;\n",
       "  });\n",
       "});\n",
       "} catch (e) {};\n"
      ]
     },
     "metadata": {},
     "output_type": "display_data"
    },
    {
     "name": "stdout",
     "output_type": "stream",
     "text": [
      "['__class__', '__delattr__', '__dict__', '__dir__', '__doc__', '__eq__', '__format__', '__ge__', '__getattr__', '__getattribute__', '__gt__', '__hash__', '__init__', '__init_subclass__', '__le__', '__lt__', '__module__', '__ne__', '__new__', '__reduce__', '__reduce_ex__', '__repr__', '__setattr__', '__sizeof__', '__str__', '__subclasshook__', '__weakref__', '_deepcopy_dict_from', '_ip_map', '_register_drivers', 'axi_dma_0', 'binfile_name', 'bit_data', 'bitfile_name', 'clock_dict', 'device', 'download', 'dtbo', 'firmware_path', 'free', 'gpio_dict', 'hierarchy_dict', 'ignore_version', 'insert_dtbo', 'interrupt_controllers', 'interrupt_pins', 'ip_dict', 'is_loaded', 'load_ip_data', 'mem_dict', 'parser', 'partial', 'pr_dict', 'pr_download', 'remove_dtbo', 'reset', 'timestamp', 'zynq_ultra_ps_e_0']\n"
     ]
    }
   ],
   "source": [
    "from pynq import Overlay\n",
    "from pynq import allocate\n",
    "import numpy as np\n",
    "import pynq.lib.dma\n",
    "import pandas as pd\n",
    "import math\n",
    "import time\n",
    "overlay = Overlay('W13_V0.bit')\n",
    "print(dir(overlay))\n",
    "dma = overlay.axi_dma_0"
   ]
  },
  {
   "cell_type": "code",
   "execution_count": 2,
   "metadata": {},
   "outputs": [],
   "source": [
    "NUM_INPUT = 128\n",
    "NUM_LAYER_0 = 128\n",
    "NUM_LAYER_1 = 128\n",
    "NUM_OUTPUT = 1"
   ]
  },
  {
   "cell_type": "markdown",
   "metadata": {},
   "source": [
    "<h1>DATA RETRIEVAL AND PREPARATION</h1>"
   ]
  },
  {
   "cell_type": "markdown",
   "metadata": {},
   "source": [
    "<h2>RETRIEVE WEIGHTS AND BIASES FROM DATA FILES</h2>"
   ]
  },
  {
   "cell_type": "code",
   "execution_count": 3,
   "metadata": {},
   "outputs": [
    {
     "ename": "FileNotFoundError",
     "evalue": "[Errno 2] No such file or directory: 'data/weight/weight_out.npy'",
     "output_type": "error",
     "traceback": [
      "\u001b[0;31m---------------------------------------------------------------------------\u001b[0m",
      "\u001b[0;31mFileNotFoundError\u001b[0m                         Traceback (most recent call last)",
      "\u001b[0;32m<ipython-input-3-43cb59f93892>\u001b[0m in \u001b[0;36m<module>\u001b[0;34m()\u001b[0m\n\u001b[1;32m      1\u001b[0m \u001b[0mweight_layer_0\u001b[0m \u001b[0;34m=\u001b[0m \u001b[0mnp\u001b[0m\u001b[0;34m.\u001b[0m\u001b[0mload\u001b[0m\u001b[0;34m(\u001b[0m\u001b[0;34m'data/weight/weight_0.npy'\u001b[0m\u001b[0;34m)\u001b[0m\u001b[0;34m\u001b[0m\u001b[0m\n\u001b[1;32m      2\u001b[0m \u001b[0mweight_layer_1\u001b[0m \u001b[0;34m=\u001b[0m \u001b[0mnp\u001b[0m\u001b[0;34m.\u001b[0m\u001b[0mload\u001b[0m\u001b[0;34m(\u001b[0m\u001b[0;34m'data/weight/weight_1.npy'\u001b[0m\u001b[0;34m)\u001b[0m\u001b[0;34m\u001b[0m\u001b[0m\n\u001b[0;32m----> 3\u001b[0;31m \u001b[0mweight_out\u001b[0m \u001b[0;34m=\u001b[0m \u001b[0mnp\u001b[0m\u001b[0;34m.\u001b[0m\u001b[0mload\u001b[0m\u001b[0;34m(\u001b[0m\u001b[0;34m'data/weight/weight_out.npy'\u001b[0m\u001b[0;34m)\u001b[0m\u001b[0;34m\u001b[0m\u001b[0m\n\u001b[0m\u001b[1;32m      4\u001b[0m \u001b[0mbias_layer_0\u001b[0m \u001b[0;34m=\u001b[0m \u001b[0mnp\u001b[0m\u001b[0;34m.\u001b[0m\u001b[0mload\u001b[0m\u001b[0;34m(\u001b[0m\u001b[0;34m'data/bias/bias_0.npy'\u001b[0m\u001b[0;34m)\u001b[0m\u001b[0;34m\u001b[0m\u001b[0m\n\u001b[1;32m      5\u001b[0m \u001b[0mbias_layer_1\u001b[0m \u001b[0;34m=\u001b[0m \u001b[0mnp\u001b[0m\u001b[0;34m.\u001b[0m\u001b[0mload\u001b[0m\u001b[0;34m(\u001b[0m\u001b[0;34m'data/bias/bias_1.npy'\u001b[0m\u001b[0;34m)\u001b[0m\u001b[0;34m\u001b[0m\u001b[0m\n",
      "\u001b[0;32m/usr/local/lib/python3.6/dist-packages/numpy/lib/npyio.py\u001b[0m in \u001b[0;36mload\u001b[0;34m(file, mmap_mode, allow_pickle, fix_imports, encoding)\u001b[0m\n\u001b[1;32m    413\u001b[0m         \u001b[0mown_fid\u001b[0m \u001b[0;34m=\u001b[0m \u001b[0;32mFalse\u001b[0m\u001b[0;34m\u001b[0m\u001b[0m\n\u001b[1;32m    414\u001b[0m     \u001b[0;32melse\u001b[0m\u001b[0;34m:\u001b[0m\u001b[0;34m\u001b[0m\u001b[0m\n\u001b[0;32m--> 415\u001b[0;31m         \u001b[0mfid\u001b[0m \u001b[0;34m=\u001b[0m \u001b[0mopen\u001b[0m\u001b[0;34m(\u001b[0m\u001b[0mos_fspath\u001b[0m\u001b[0;34m(\u001b[0m\u001b[0mfile\u001b[0m\u001b[0;34m)\u001b[0m\u001b[0;34m,\u001b[0m \u001b[0;34m\"rb\"\u001b[0m\u001b[0;34m)\u001b[0m\u001b[0;34m\u001b[0m\u001b[0m\n\u001b[0m\u001b[1;32m    416\u001b[0m         \u001b[0mown_fid\u001b[0m \u001b[0;34m=\u001b[0m \u001b[0;32mTrue\u001b[0m\u001b[0;34m\u001b[0m\u001b[0m\n\u001b[1;32m    417\u001b[0m \u001b[0;34m\u001b[0m\u001b[0m\n",
      "\u001b[0;31mFileNotFoundError\u001b[0m: [Errno 2] No such file or directory: 'data/weight/weight_out.npy'"
     ]
    }
   ],
   "source": [
    "weight_layer_0 = np.load('data/weight/weight_0.npy')\n",
    "weight_layer_1 = np.load('data/weight/weight_1.npy')\n",
    "weight_out = np.load('data/weight/weight_out.npy')\n",
    "bias_layer_0 = np.load('data/bias/bias_0.npy')\n",
    "bias_layer_1 = np.load('data/bias/bias_1.npy')\n",
    "bias_out = np.load('data/bias/bias_out.npy')\n",
    "df = pd.read_csv('data/train_data.csv')\n",
    "training_pose = pd.Series(df.LABEL[:32]).transpose()\n",
    "x_inputs = pd.Series(df.x[:32]).transpose()\n",
    "y_inputs = pd.Series(df.y[:32]).transpose()\n",
    "z_inputs = pd.Series(df.z[:32]).transpose()\n",
    "t_inputs = pd.Series(df.t[:32]).transpose()\n",
    "print(df)\n",
    "print(training_pose)\n",
    "print(weight_layer_0)"
   ]
  },
  {
   "cell_type": "markdown",
   "metadata": {},
   "source": [
    "<h1>FPGA EVALUATION</h1>"
   ]
  },
  {
   "cell_type": "markdown",
   "metadata": {},
   "source": [
    "<h2>DEFINES BUFFERS FOR TRANSFERRING PROTOCOL</h2>"
   ]
  },
  {
   "cell_type": "code",
   "execution_count": 4,
   "metadata": {},
   "outputs": [],
   "source": [
    "#define buffers\n",
    "#buffer for layer 0\n",
    "input_weight_buffer_0 = allocate(shape=(NUM_INPUT,), dtype = np.float32)\n",
    "input_weight_buffer_1 = allocate(shape=(NUM_LAYER_0,), dtype = np.float32)\n",
    "output_weight_buffer = allocate(shape=(NUM_LAYER_1,), dtype = np.float32)\n",
    "\n",
    "input_bias_buffer_0 = allocate(shape=(NUM_LAYER_0,), dtype = np.float32)\n",
    "input_bias_buffer_1 = allocate(shape=(NUM_LAYER_1,), dtype = np.float32)\n",
    "output_bias_buffer = allocate(shape=(NUM_OUTPUT,), dtype = np.float32)"
   ]
  },
  {
   "cell_type": "markdown",
   "metadata": {},
   "source": [
    "<h2>LOAD WEIGHTS AND BIASES TO FPGA</h2>"
   ]
  },
  {
   "cell_type": "code",
   "execution_count": 5,
   "metadata": {},
   "outputs": [
    {
     "ename": "RuntimeError",
     "evalue": "DMA channel not started",
     "output_type": "error",
     "traceback": [
      "\u001b[0;31m---------------------------------------------------------------------------\u001b[0m",
      "\u001b[0;31mRuntimeError\u001b[0m                              Traceback (most recent call last)",
      "\u001b[0;32m<ipython-input-5-093e12913287>\u001b[0m in \u001b[0;36m<module>\u001b[0;34m()\u001b[0m\n\u001b[1;32m     21\u001b[0m     \u001b[0;31m#print(output_weight_buffer)\u001b[0m\u001b[0;34m\u001b[0m\u001b[0;34m\u001b[0m\u001b[0m\n\u001b[1;32m     22\u001b[0m     \u001b[0mdma\u001b[0m\u001b[0;34m.\u001b[0m\u001b[0msendchannel\u001b[0m\u001b[0;34m.\u001b[0m\u001b[0mtransfer\u001b[0m\u001b[0;34m(\u001b[0m\u001b[0moutput_weight_buffer\u001b[0m\u001b[0;34m)\u001b[0m\u001b[0;34m\u001b[0m\u001b[0m\n\u001b[0;32m---> 23\u001b[0;31m     \u001b[0mdma\u001b[0m\u001b[0;34m.\u001b[0m\u001b[0msendchannel\u001b[0m\u001b[0;34m.\u001b[0m\u001b[0mwait\u001b[0m\u001b[0;34m(\u001b[0m\u001b[0;34m)\u001b[0m\u001b[0;34m\u001b[0m\u001b[0m\n\u001b[0m\u001b[1;32m     24\u001b[0m \u001b[0;34m\u001b[0m\u001b[0m\n\u001b[1;32m     25\u001b[0m \u001b[0;31m#Send biases for layer 0\u001b[0m\u001b[0;34m\u001b[0m\u001b[0;34m\u001b[0m\u001b[0m\n",
      "\u001b[0;32m/usr/local/lib/python3.6/dist-packages/pynq/lib/dma.py\u001b[0m in \u001b[0;36mwait\u001b[0;34m(self)\u001b[0m\n\u001b[1;32m    203\u001b[0m         \"\"\"\n\u001b[1;32m    204\u001b[0m         \u001b[0;32mif\u001b[0m \u001b[0;32mnot\u001b[0m \u001b[0mself\u001b[0m\u001b[0;34m.\u001b[0m\u001b[0mrunning\u001b[0m\u001b[0;34m:\u001b[0m\u001b[0;34m\u001b[0m\u001b[0m\n\u001b[0;32m--> 205\u001b[0;31m             \u001b[0;32mraise\u001b[0m \u001b[0mRuntimeError\u001b[0m\u001b[0;34m(\u001b[0m\u001b[0;34m'DMA channel not started'\u001b[0m\u001b[0;34m)\u001b[0m\u001b[0;34m\u001b[0m\u001b[0m\n\u001b[0m\u001b[1;32m    206\u001b[0m         \u001b[0;32mwhile\u001b[0m \u001b[0;32mTrue\u001b[0m\u001b[0;34m:\u001b[0m\u001b[0;34m\u001b[0m\u001b[0m\n\u001b[1;32m    207\u001b[0m             \u001b[0merror\u001b[0m \u001b[0;34m=\u001b[0m \u001b[0mself\u001b[0m\u001b[0;34m.\u001b[0m\u001b[0m_mmio\u001b[0m\u001b[0;34m.\u001b[0m\u001b[0mread\u001b[0m\u001b[0;34m(\u001b[0m\u001b[0mself\u001b[0m\u001b[0;34m.\u001b[0m\u001b[0m_offset\u001b[0m \u001b[0;34m+\u001b[0m \u001b[0;36m4\u001b[0m\u001b[0;34m)\u001b[0m\u001b[0;34m\u001b[0m\u001b[0m\n",
      "\u001b[0;31mRuntimeError\u001b[0m: DMA channel not started"
     ]
    }
   ],
   "source": [
    "#Send weights for layer 0\n",
    "for i in range(NUM_LAYER_0):\n",
    "    for j in range(NUM_INPUT):\n",
    "        input_weight_buffer_0[j] = weight_layer_0[i][j]\n",
    "    #print(input_weight_buffer_0)\n",
    "    dma.sendchannel.transfer(input_weight_buffer_0)\n",
    "    dma.sendchannel.wait()\n",
    "    \n",
    "#Send weights for layer 1    \n",
    "for i in range(NUM_LAYER_1):\n",
    "    for j in range(NUM_LAYER_0):\n",
    "        input_weight_buffer_1[j] = weight_layer_1[i][j]\n",
    "    #print(input_buffer_1)\n",
    "    dma.sendchannel.transfer(input_weight_buffer_1)\n",
    "    dma.sendchannel.wait()\n",
    "    \n",
    "#Send weights for output layer\n",
    "for i in range(NUM_OUTPUT):\n",
    "    for j in range(NUM_LAYER_0):\n",
    "        output_weight_buffer[j] = weight_out[i][j]\n",
    "    #print(output_weight_buffer)\n",
    "    dma.sendchannel.transfer(output_weight_buffer)\n",
    "    dma.sendchannel.wait()\n",
    "    \n",
    "#Send biases for layer 0\n",
    "for i in range(NUM_LAYER_0):\n",
    "    input_bias_buffer_0[i] = bias_layer_0[i]\n",
    "dma.sendchannel.transfer(input_bias_buffer_0)\n",
    "dma.sendchannel.wait()\n",
    "\n",
    "#Send biases for layer 1\n",
    "for i in range(NUM_LAYER_1):\n",
    "    input_bias_buffer_1[i] = bias_layer_1[i]\n",
    "dma.sendchannel.transfer(input_bias_buffer_1)\n",
    "dma.sendchannel.wait()\n",
    "\n",
    "#Send biases for output layer\n",
    "for i in range(NUM_OUTPUT):\n",
    "    output_bias_buffer[i] = bias_out[i]\n",
    "dma.sendchannel.transfer(output_bias_buffer)\n",
    "#print(output_bias_buffer)\n",
    "dma.sendchannel.wait()"
   ]
  },
  {
   "cell_type": "code",
   "execution_count": 20,
   "metadata": {},
   "outputs": [],
   "source": [
    "#input_buffer = allocate(shape=(NUM_INPUT,), dtype = np.float32)\n",
    "#output_buffer = allocate(shape=(NUM_OUTPUT,), dtype = np.float32)\n",
    "\n",
    "def fpga_pos_evaluation():\n",
    "    input_buffer = allocate(shape=(NUM_INPUT,), dtype = np.float32)\n",
    "    output_buffer = allocate(shape=(NUM_OUTPUT,), dtype = np.float32)\n",
    "    for i in range(32):\n",
    "        input_buffer[i] = x_inputs[i]\n",
    "    for i in range(32):\n",
    "        input_buffer[i + 32] = y_inputs[i]\n",
    "    for i in range(32):\n",
    "        input_buffer[i + 64] = z_inputs[i]  \n",
    "    for i in range(32):\n",
    "        input_buffer[i + 96] = t_inputs[i]\n",
    "    dma.sendchannel.transfer(input_buffer)\n",
    "    dma.sendchannel.wait()\n",
    "    dma.recvchannel.transfer(output_buffer)\n",
    "    dma.sendchannel.wait()\n",
    "    return output_buffer\n",
    "#fpga_pos = np.zeros(1)\n",
    "#fpga_pos = np.row_stack(fpga_pos_evaluation())\n"
   ]
  },
  {
   "cell_type": "code",
   "execution_count": 21,
   "metadata": {},
   "outputs": [],
   "source": [
    "#print(fpga_pos[0][0])"
   ]
  },
  {
   "cell_type": "markdown",
   "metadata": {},
   "source": [
    "<h1>CPU IMPLEMENTATION</h1>"
   ]
  },
  {
   "cell_type": "code",
   "execution_count": 22,
   "metadata": {},
   "outputs": [],
   "source": [
    "def sigmoid(x):\n",
    "    if (x > 100):\n",
    "        return 1\n",
    "    elif (x < -100):\n",
    "        return 0\n",
    "    else:\n",
    "        return (1/(1+math.exp(float(-x))))\n",
    "\n",
    "def cpu_evaluation():\n",
    "    inputs = np.zeros(NUM_INPUT)\n",
    "    layer_0 = np.zeros(NUM_LAYER_0)\n",
    "    layer_1 = np.zeros(NUM_LAYER_1)\n",
    "    outputs = np.zeros(NUM_OUTPUT)\n",
    "    for i in range(32):\n",
    "        inputs[i] = x_inputs[i]\n",
    "    for i in range(32):\n",
    "        inputs[i + 32] = y_inputs[i]\n",
    "    for i in range(32):\n",
    "        inputs[i + 64] = z_inputs[i]  \n",
    "    for i in range(32):\n",
    "        inputs[i + 96] = t_inputs[i]\n",
    "    cpu_res = np.zeros(1)\n",
    "    for i in range(NUM_LAYER_0):\n",
    "        layer_0[i] = np.dot(inputs, weight_layer_0[i]) + bias_layer_0[i]\n",
    "        layer_0[i] = sigmoid(layer_0[i])\n",
    "    for i in range(NUM_LAYER_1):\n",
    "        layer_1[i] = np.dot(layer_0, weight_layer_1[i]) + bias_layer_1[i]\n",
    "        layer_1[i] = sigmoid(layer_1[i])\n",
    "    for i in range(NUM_OUTPUT):\n",
    "        outputs[i] = np.dot(layer_1, weight_out[i]) + bias_out[i]\n",
    "        outputs[i] = sigmoid(outputs[i])\n",
    "    return outputs\n",
    "    "
   ]
  },
  {
   "cell_type": "markdown",
   "metadata": {},
   "source": [
    "<h2>POWER METRICS</h2>"
   ]
  },
  {
   "cell_type": "code",
   "execution_count": 23,
   "metadata": {},
   "outputs": [],
   "source": [
    "rails = pynq.get_rails()\n",
    "recorder1 = pynq.DataRecorder(rails['PSINT_FP'].power, rails['PSPLL'].power)\n",
    "recorder2 = pynq.DataRecorder(rails['PSINT_FP'].power, rails['PSPLL'].power)"
   ]
  },
  {
   "cell_type": "markdown",
   "metadata": {},
   "source": [
    "<h2>FPGA PERFORMANCE</h2>"
   ]
  },
  {
   "cell_type": "code",
   "execution_count": 24,
   "metadata": {},
   "outputs": [
    {
     "ename": "RuntimeError",
     "evalue": "DMA channel not started",
     "output_type": "error",
     "traceback": [
      "\u001b[0;31m---------------------------------------------------------------------------\u001b[0m",
      "\u001b[0;31mRuntimeError\u001b[0m                              Traceback (most recent call last)",
      "\u001b[0;32m<ipython-input-24-d34a98fe9fe6>\u001b[0m in \u001b[0;36m<module>\u001b[0;34m()\u001b[0m\n\u001b[1;32m      6\u001b[0m     \u001b[0mrecorder1\u001b[0m\u001b[0;34m.\u001b[0m\u001b[0mmark\u001b[0m\u001b[0;34m(\u001b[0m\u001b[0;34m)\u001b[0m\u001b[0;34m\u001b[0m\u001b[0m\n\u001b[1;32m      7\u001b[0m     \u001b[0mtimestart\u001b[0m \u001b[0;34m=\u001b[0m \u001b[0mtime\u001b[0m\u001b[0;34m.\u001b[0m\u001b[0mtime\u001b[0m\u001b[0;34m(\u001b[0m\u001b[0;34m)\u001b[0m\u001b[0;34m\u001b[0m\u001b[0m\n\u001b[0;32m----> 8\u001b[0;31m     \u001b[0mfpga_res\u001b[0m \u001b[0;34m=\u001b[0m \u001b[0mnp\u001b[0m\u001b[0;34m.\u001b[0m\u001b[0mrow_stack\u001b[0m\u001b[0;34m(\u001b[0m\u001b[0mfpga_pos_evaluation\u001b[0m\u001b[0;34m(\u001b[0m\u001b[0;34m)\u001b[0m\u001b[0;34m)\u001b[0m\u001b[0;34m\u001b[0m\u001b[0m\n\u001b[0m\u001b[1;32m      9\u001b[0m     \u001b[0mtimeend\u001b[0m \u001b[0;34m=\u001b[0m \u001b[0mtime\u001b[0m\u001b[0;34m.\u001b[0m\u001b[0mtime\u001b[0m\u001b[0;34m(\u001b[0m\u001b[0;34m)\u001b[0m\u001b[0;34m\u001b[0m\u001b[0m\n\u001b[1;32m     10\u001b[0m     \u001b[0mrecorder1\u001b[0m\u001b[0;34m.\u001b[0m\u001b[0mmark\u001b[0m\u001b[0;34m(\u001b[0m\u001b[0;34m)\u001b[0m\u001b[0;34m\u001b[0m\u001b[0m\n",
      "\u001b[0;32m<ipython-input-20-8dbb3e3f899e>\u001b[0m in \u001b[0;36mfpga_pos_evaluation\u001b[0;34m()\u001b[0m\n\u001b[1;32m     16\u001b[0m     \u001b[0mdma\u001b[0m\u001b[0;34m.\u001b[0m\u001b[0msendchannel\u001b[0m\u001b[0;34m.\u001b[0m\u001b[0mwait\u001b[0m\u001b[0;34m(\u001b[0m\u001b[0;34m)\u001b[0m\u001b[0;34m\u001b[0m\u001b[0m\n\u001b[1;32m     17\u001b[0m     \u001b[0mdma\u001b[0m\u001b[0;34m.\u001b[0m\u001b[0mrecvchannel\u001b[0m\u001b[0;34m.\u001b[0m\u001b[0mtransfer\u001b[0m\u001b[0;34m(\u001b[0m\u001b[0moutput_buffer\u001b[0m\u001b[0;34m)\u001b[0m\u001b[0;34m\u001b[0m\u001b[0m\n\u001b[0;32m---> 18\u001b[0;31m     \u001b[0mdma\u001b[0m\u001b[0;34m.\u001b[0m\u001b[0msendchannel\u001b[0m\u001b[0;34m.\u001b[0m\u001b[0mwait\u001b[0m\u001b[0;34m(\u001b[0m\u001b[0;34m)\u001b[0m\u001b[0;34m\u001b[0m\u001b[0m\n\u001b[0m\u001b[1;32m     19\u001b[0m     \u001b[0;32mreturn\u001b[0m \u001b[0moutput_buffer\u001b[0m\u001b[0;34m\u001b[0m\u001b[0m\n\u001b[1;32m     20\u001b[0m \u001b[0;31m#fpga_pos = np.zeros(1)\u001b[0m\u001b[0;34m\u001b[0m\u001b[0;34m\u001b[0m\u001b[0m\n",
      "\u001b[0;32m/usr/local/lib/python3.6/dist-packages/pynq/lib/dma.py\u001b[0m in \u001b[0;36mwait\u001b[0;34m(self)\u001b[0m\n\u001b[1;32m    203\u001b[0m         \"\"\"\n\u001b[1;32m    204\u001b[0m         \u001b[0;32mif\u001b[0m \u001b[0;32mnot\u001b[0m \u001b[0mself\u001b[0m\u001b[0;34m.\u001b[0m\u001b[0mrunning\u001b[0m\u001b[0;34m:\u001b[0m\u001b[0;34m\u001b[0m\u001b[0m\n\u001b[0;32m--> 205\u001b[0;31m             \u001b[0;32mraise\u001b[0m \u001b[0mRuntimeError\u001b[0m\u001b[0;34m(\u001b[0m\u001b[0;34m'DMA channel not started'\u001b[0m\u001b[0;34m)\u001b[0m\u001b[0;34m\u001b[0m\u001b[0m\n\u001b[0m\u001b[1;32m    206\u001b[0m         \u001b[0;32mwhile\u001b[0m \u001b[0;32mTrue\u001b[0m\u001b[0;34m:\u001b[0m\u001b[0;34m\u001b[0m\u001b[0m\n\u001b[1;32m    207\u001b[0m             \u001b[0merror\u001b[0m \u001b[0;34m=\u001b[0m \u001b[0mself\u001b[0m\u001b[0;34m.\u001b[0m\u001b[0m_mmio\u001b[0m\u001b[0;34m.\u001b[0m\u001b[0mread\u001b[0m\u001b[0;34m(\u001b[0m\u001b[0mself\u001b[0m\u001b[0;34m.\u001b[0m\u001b[0m_offset\u001b[0m \u001b[0;34m+\u001b[0m \u001b[0;36m4\u001b[0m\u001b[0;34m)\u001b[0m\u001b[0;34m\u001b[0m\u001b[0m\n",
      "\u001b[0;31mRuntimeError\u001b[0m: DMA channel not started"
     ]
    }
   ],
   "source": [
    "fpga_time = time.time()\n",
    "recorder1.reset()\n",
    "fpga_res = np.zeros(1)\n",
    "with recorder1.record(0.00001):\n",
    "    time.sleep(1)\n",
    "    recorder1.mark()\n",
    "    timestart = time.time()\n",
    "    fpga_res = np.row_stack(fpga_pos_evaluation())\n",
    "    timeend = time.time()\n",
    "    recorder1.mark()\n",
    "    time.sleep(1)\n",
    "    fpga_time = timeend-timestart\n",
    "print('Time taken = ' + str(fpga_time))    \n",
    "recorder1.frame.plot(subplots=True)\n",
    "print(fpga_res)\n",
    "#fpga_res = np.argmax(fpga_res, axis=-1)"
   ]
  },
  {
   "cell_type": "markdown",
   "metadata": {},
   "source": [
    "<h2>CPU PERFORMANCE</h2>"
   ]
  },
  {
   "cell_type": "code",
   "execution_count": 25,
   "metadata": {},
   "outputs": [
    {
     "name": "stdout",
     "output_type": "stream",
     "text": [
      "Time taken = 0.03504323959350586\n",
      "[1.]\n"
     ]
    },
    {
     "data": {
      "image/png": "[encoded data removed]",
      "text/plain": [
       "<matplotlib.figure.Figure at 0x7f78240d30>"
      ]
     },
     "metadata": {},
     "output_type": "display_data"
    }
   ],
   "source": [
    "cpu_time = time.time()\n",
    "\n",
    "recorder2.reset()\n",
    "with recorder2.record(0.01):\n",
    "    time.sleep(1)\n",
    "    recorder2.mark()\n",
    "    timestart = time.time()\n",
    "    cpu_res = cpu_evaluation()\n",
    "    timeend = time.time()\n",
    "    recorder2.mark()\n",
    "    time.sleep(1)\n",
    "    cpu_time = timeend-timestart\n",
    "print('Time taken = ' + str(cpu_time))    \n",
    "recorder2.frame.plot(subplots=True)\n",
    "print(cpu_res)\n",
    "#cpu_res = np.argmax(cpu_res, axis=-1)"
   ]
  },
  {
   "cell_type": "code",
   "execution_count": null,
   "metadata": {},
   "outputs": [],
   "source": []
  }
 ],
 "metadata": {
  "kernelspec": {
   "display_name": "Python 3",
   "language": "python",
   "name": "python3"
  },
  "language_info": {
   "codemirror_mode": {
    "name": "ipython",
    "version": 3
   },
   "file_extension": ".py",
   "mimetype": "text/x-python",
   "name": "python",
   "nbconvert_exporter": "python",
   "pygments_lexer": "ipython3",
   "version": "3.6.5"
  }
 },
 "nbformat": 4,
 "nbformat_minor": 2
}
